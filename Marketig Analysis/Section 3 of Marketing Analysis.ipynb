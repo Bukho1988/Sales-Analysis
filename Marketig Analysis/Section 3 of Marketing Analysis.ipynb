{
 "cells": [
  {
   "cell_type": "code",
   "execution_count": 1,
   "id": "419456e2",
   "metadata": {},
   "outputs": [
    {
     "data": {
      "text/html": [
       "<div>\n",
       "<style scoped>\n",
       "    .dataframe tbody tr th:only-of-type {\n",
       "        vertical-align: middle;\n",
       "    }\n",
       "\n",
       "    .dataframe tbody tr th {\n",
       "        vertical-align: top;\n",
       "    }\n",
       "\n",
       "    .dataframe thead th {\n",
       "        text-align: right;\n",
       "    }\n",
       "</style>\n",
       "<table border=\"1\" class=\"dataframe\">\n",
       "  <thead>\n",
       "    <tr style=\"text-align: right;\">\n",
       "      <th></th>\n",
       "      <th>Education</th>\n",
       "      <th>Marital_Status</th>\n",
       "      <th>Income</th>\n",
       "      <th>Kidhome</th>\n",
       "      <th>Teenhome</th>\n",
       "      <th>Recency</th>\n",
       "      <th>MntWines</th>\n",
       "      <th>MntFruits</th>\n",
       "      <th>MntMeatProducts</th>\n",
       "      <th>MntFishProducts</th>\n",
       "      <th>MntSweetProducts</th>\n",
       "      <th>MntGoldProds</th>\n",
       "      <th>NumDealsPurchases</th>\n",
       "      <th>NumWebPurchases</th>\n",
       "      <th>NumCatalogPurchases</th>\n",
       "      <th>NumStorePurchases</th>\n",
       "      <th>NumWebVisitsMonth</th>\n",
       "      <th>AcceptedCmp3</th>\n",
       "      <th>AcceptedCmp4</th>\n",
       "      <th>AcceptedCmp5</th>\n",
       "      <th>AcceptedCmp1</th>\n",
       "      <th>AcceptedCmp2</th>\n",
       "      <th>Response</th>\n",
       "      <th>Complain</th>\n",
       "      <th>Country</th>\n",
       "      <th>Age_in_years</th>\n",
       "      <th>Dt_Customer_Day</th>\n",
       "      <th>Dt_Customer_Month</th>\n",
       "      <th>Dt_Customer_Year</th>\n",
       "      <th>TotalMntSpent</th>\n",
       "      <th>Total_Number_Purchases</th>\n",
       "      <th>Age Segmentation</th>\n",
       "    </tr>\n",
       "  </thead>\n",
       "  <tbody>\n",
       "    <tr>\n",
       "      <th>0</th>\n",
       "      <td>Graduation</td>\n",
       "      <td>Divorced</td>\n",
       "      <td>84835.0</td>\n",
       "      <td>0</td>\n",
       "      <td>0</td>\n",
       "      <td>0</td>\n",
       "      <td>189</td>\n",
       "      <td>104</td>\n",
       "      <td>379</td>\n",
       "      <td>111</td>\n",
       "      <td>189</td>\n",
       "      <td>218</td>\n",
       "      <td>1</td>\n",
       "      <td>4</td>\n",
       "      <td>4</td>\n",
       "      <td>6</td>\n",
       "      <td>1</td>\n",
       "      <td>0</td>\n",
       "      <td>0</td>\n",
       "      <td>0</td>\n",
       "      <td>0</td>\n",
       "      <td>0</td>\n",
       "      <td>1</td>\n",
       "      <td>0</td>\n",
       "      <td>Spain</td>\n",
       "      <td>52</td>\n",
       "      <td>16</td>\n",
       "      <td>6</td>\n",
       "      <td>2014</td>\n",
       "      <td>1190</td>\n",
       "      <td>15</td>\n",
       "      <td>Between 45 and 54</td>\n",
       "    </tr>\n",
       "    <tr>\n",
       "      <th>1</th>\n",
       "      <td>Graduation</td>\n",
       "      <td>Single</td>\n",
       "      <td>57091.0</td>\n",
       "      <td>0</td>\n",
       "      <td>0</td>\n",
       "      <td>0</td>\n",
       "      <td>464</td>\n",
       "      <td>5</td>\n",
       "      <td>64</td>\n",
       "      <td>7</td>\n",
       "      <td>0</td>\n",
       "      <td>37</td>\n",
       "      <td>1</td>\n",
       "      <td>7</td>\n",
       "      <td>3</td>\n",
       "      <td>7</td>\n",
       "      <td>5</td>\n",
       "      <td>0</td>\n",
       "      <td>0</td>\n",
       "      <td>0</td>\n",
       "      <td>0</td>\n",
       "      <td>1</td>\n",
       "      <td>1</td>\n",
       "      <td>0</td>\n",
       "      <td>Central America</td>\n",
       "      <td>61</td>\n",
       "      <td>15</td>\n",
       "      <td>6</td>\n",
       "      <td>2014</td>\n",
       "      <td>577</td>\n",
       "      <td>18</td>\n",
       "      <td>Between 55 and 64</td>\n",
       "    </tr>\n",
       "    <tr>\n",
       "      <th>2</th>\n",
       "      <td>Graduation</td>\n",
       "      <td>Married</td>\n",
       "      <td>67267.0</td>\n",
       "      <td>0</td>\n",
       "      <td>1</td>\n",
       "      <td>0</td>\n",
       "      <td>134</td>\n",
       "      <td>11</td>\n",
       "      <td>59</td>\n",
       "      <td>15</td>\n",
       "      <td>2</td>\n",
       "      <td>30</td>\n",
       "      <td>1</td>\n",
       "      <td>3</td>\n",
       "      <td>2</td>\n",
       "      <td>5</td>\n",
       "      <td>2</td>\n",
       "      <td>0</td>\n",
       "      <td>0</td>\n",
       "      <td>0</td>\n",
       "      <td>0</td>\n",
       "      <td>0</td>\n",
       "      <td>0</td>\n",
       "      <td>0</td>\n",
       "      <td>United States of America</td>\n",
       "      <td>64</td>\n",
       "      <td>13</td>\n",
       "      <td>5</td>\n",
       "      <td>2014</td>\n",
       "      <td>251</td>\n",
       "      <td>11</td>\n",
       "      <td>Between 55 and 64</td>\n",
       "    </tr>\n",
       "    <tr>\n",
       "      <th>3</th>\n",
       "      <td>Graduation</td>\n",
       "      <td>Together</td>\n",
       "      <td>32474.0</td>\n",
       "      <td>1</td>\n",
       "      <td>1</td>\n",
       "      <td>0</td>\n",
       "      <td>10</td>\n",
       "      <td>0</td>\n",
       "      <td>1</td>\n",
       "      <td>0</td>\n",
       "      <td>0</td>\n",
       "      <td>0</td>\n",
       "      <td>1</td>\n",
       "      <td>1</td>\n",
       "      <td>0</td>\n",
       "      <td>2</td>\n",
       "      <td>7</td>\n",
       "      <td>0</td>\n",
       "      <td>0</td>\n",
       "      <td>0</td>\n",
       "      <td>0</td>\n",
       "      <td>0</td>\n",
       "      <td>0</td>\n",
       "      <td>0</td>\n",
       "      <td>Australia</td>\n",
       "      <td>55</td>\n",
       "      <td>11</td>\n",
       "      <td>5</td>\n",
       "      <td>2014</td>\n",
       "      <td>11</td>\n",
       "      <td>4</td>\n",
       "      <td>Between 55 and 64</td>\n",
       "    </tr>\n",
       "    <tr>\n",
       "      <th>4</th>\n",
       "      <td>Graduation</td>\n",
       "      <td>Single</td>\n",
       "      <td>21474.0</td>\n",
       "      <td>1</td>\n",
       "      <td>0</td>\n",
       "      <td>0</td>\n",
       "      <td>6</td>\n",
       "      <td>16</td>\n",
       "      <td>24</td>\n",
       "      <td>11</td>\n",
       "      <td>0</td>\n",
       "      <td>34</td>\n",
       "      <td>2</td>\n",
       "      <td>3</td>\n",
       "      <td>1</td>\n",
       "      <td>2</td>\n",
       "      <td>7</td>\n",
       "      <td>1</td>\n",
       "      <td>0</td>\n",
       "      <td>0</td>\n",
       "      <td>0</td>\n",
       "      <td>0</td>\n",
       "      <td>1</td>\n",
       "      <td>0</td>\n",
       "      <td>Spain</td>\n",
       "      <td>33</td>\n",
       "      <td>8</td>\n",
       "      <td>4</td>\n",
       "      <td>2014</td>\n",
       "      <td>91</td>\n",
       "      <td>8</td>\n",
       "      <td>Between 25 and 34</td>\n",
       "    </tr>\n",
       "  </tbody>\n",
       "</table>\n",
       "</div>"
      ],
      "text/plain": [
       "    Education Marital_Status   Income  Kidhome  Teenhome  Recency  MntWines  \\\n",
       "0  Graduation       Divorced  84835.0        0         0        0       189   \n",
       "1  Graduation         Single  57091.0        0         0        0       464   \n",
       "2  Graduation        Married  67267.0        0         1        0       134   \n",
       "3  Graduation       Together  32474.0        1         1        0        10   \n",
       "4  Graduation         Single  21474.0        1         0        0         6   \n",
       "\n",
       "   MntFruits  MntMeatProducts  MntFishProducts  MntSweetProducts  \\\n",
       "0        104              379              111               189   \n",
       "1          5               64                7                 0   \n",
       "2         11               59               15                 2   \n",
       "3          0                1                0                 0   \n",
       "4         16               24               11                 0   \n",
       "\n",
       "   MntGoldProds  NumDealsPurchases  NumWebPurchases  NumCatalogPurchases  \\\n",
       "0           218                  1                4                    4   \n",
       "1            37                  1                7                    3   \n",
       "2            30                  1                3                    2   \n",
       "3             0                  1                1                    0   \n",
       "4            34                  2                3                    1   \n",
       "\n",
       "   NumStorePurchases  NumWebVisitsMonth  AcceptedCmp3  AcceptedCmp4  \\\n",
       "0                  6                  1             0             0   \n",
       "1                  7                  5             0             0   \n",
       "2                  5                  2             0             0   \n",
       "3                  2                  7             0             0   \n",
       "4                  2                  7             1             0   \n",
       "\n",
       "   AcceptedCmp5  AcceptedCmp1  AcceptedCmp2  Response  Complain  \\\n",
       "0             0             0             0         1         0   \n",
       "1             0             0             1         1         0   \n",
       "2             0             0             0         0         0   \n",
       "3             0             0             0         0         0   \n",
       "4             0             0             0         1         0   \n",
       "\n",
       "                    Country  Age_in_years  Dt_Customer_Day  Dt_Customer_Month  \\\n",
       "0                     Spain            52               16                  6   \n",
       "1           Central America            61               15                  6   \n",
       "2  United States of America            64               13                  5   \n",
       "3                 Australia            55               11                  5   \n",
       "4                     Spain            33                8                  4   \n",
       "\n",
       "   Dt_Customer_Year  TotalMntSpent  Total_Number_Purchases   Age Segmentation  \n",
       "0              2014           1190                      15  Between 45 and 54  \n",
       "1              2014            577                      18  Between 55 and 64  \n",
       "2              2014            251                      11  Between 55 and 64  \n",
       "3              2014             11                       4  Between 55 and 64  \n",
       "4              2014             91                       8  Between 25 and 34  "
      ]
     },
     "execution_count": 1,
     "metadata": {},
     "output_type": "execute_result"
    }
   ],
   "source": [
    "import pandas as pd\n",
    "import numpy as np\n",
    "import matplotlib.pyplot as pt\n",
    "import scipy.stats as sts\n",
    "import seaborn as sbn\n",
    "\n",
    "\n",
    "df = pd.read_csv('Wrangled_Marketing_data.csv',index_col=0)\n",
    "\n",
    "pd.set_option('display.max_columns',100)\n",
    "pd.set_option('display.max_rows',50)\n",
    "\n",
    "df.head()"
   ]
  },
  {
   "cell_type": "code",
   "execution_count": 3,
   "id": "09e912e3",
   "metadata": {},
   "outputs": [
    {
     "data": {
      "text/plain": [
       "Index(['Education', 'Marital_Status', 'Income', 'Kidhome', 'Teenhome',\n",
       "       'Recency', 'MntWines', 'MntFruits', 'MntMeatProducts',\n",
       "       'MntFishProducts', 'MntSweetProducts', 'MntGoldProds',\n",
       "       'NumDealsPurchases', 'NumWebPurchases', 'NumCatalogPurchases',\n",
       "       'NumStorePurchases', 'NumWebVisitsMonth', 'AcceptedCmp3',\n",
       "       'AcceptedCmp4', 'AcceptedCmp5', 'AcceptedCmp1', 'AcceptedCmp2',\n",
       "       'Response', 'Complain', 'Country', 'Age_in_years', 'Dt_Customer_Day',\n",
       "       'Dt_Customer_Month', 'Dt_Customer_Year', 'TotalMntSpent',\n",
       "       'Total_Number_Purchases', 'Age Segmentation'],\n",
       "      dtype='object')"
      ]
     },
     "execution_count": 3,
     "metadata": {},
     "output_type": "execute_result"
    }
   ],
   "source": [
    "df.columns"
   ]
  },
  {
   "cell_type": "code",
   "execution_count": 8,
   "id": "9455d081",
   "metadata": {
    "scrolled": true
   },
   "outputs": [
    {
     "name": "stderr",
     "output_type": "stream",
     "text": [
      "C:\\Users\\USER\\AppData\\Local\\Temp\\ipykernel_4928\\1645687440.py:2: SettingWithCopyWarning: \n",
      "A value is trying to be set on a copy of a slice from a DataFrame.\n",
      "Try using .loc[row_indexer,col_indexer] = value instead\n",
      "\n",
      "See the caveats in the documentation: https://pandas.pydata.org/pandas-docs/stable/user_guide/indexing.html#returning-a-view-versus-a-copy\n",
      "  Demographic_df['Kidhome'] = Demographic_df['Kidhome'].copy().astype(str)\n",
      "C:\\Users\\USER\\AppData\\Local\\Temp\\ipykernel_4928\\1645687440.py:3: SettingWithCopyWarning: \n",
      "A value is trying to be set on a copy of a slice from a DataFrame.\n",
      "Try using .loc[row_indexer,col_indexer] = value instead\n",
      "\n",
      "See the caveats in the documentation: https://pandas.pydata.org/pandas-docs/stable/user_guide/indexing.html#returning-a-view-versus-a-copy\n",
      "  Demographic_df['Teenhome'] = Demographic_df['Teenhome'].copy().astype(str)\n"
     ]
    },
    {
     "data": {
      "text/html": [
       "<div>\n",
       "<style scoped>\n",
       "    .dataframe tbody tr th:only-of-type {\n",
       "        vertical-align: middle;\n",
       "    }\n",
       "\n",
       "    .dataframe tbody tr th {\n",
       "        vertical-align: top;\n",
       "    }\n",
       "\n",
       "    .dataframe thead th {\n",
       "        text-align: right;\n",
       "    }\n",
       "</style>\n",
       "<table border=\"1\" class=\"dataframe\">\n",
       "  <thead>\n",
       "    <tr style=\"text-align: right;\">\n",
       "      <th></th>\n",
       "      <th>Education</th>\n",
       "      <th>Marital_Status</th>\n",
       "      <th>Income</th>\n",
       "      <th>Kidhome</th>\n",
       "      <th>Teenhome</th>\n",
       "      <th>Country</th>\n",
       "      <th>Age_in_years</th>\n",
       "    </tr>\n",
       "  </thead>\n",
       "  <tbody>\n",
       "    <tr>\n",
       "      <th>count</th>\n",
       "      <td>2189</td>\n",
       "      <td>2189</td>\n",
       "      <td>2189.000000</td>\n",
       "      <td>2189</td>\n",
       "      <td>2189</td>\n",
       "      <td>2189</td>\n",
       "      <td>2189.000000</td>\n",
       "    </tr>\n",
       "    <tr>\n",
       "      <th>unique</th>\n",
       "      <td>5</td>\n",
       "      <td>8</td>\n",
       "      <td>NaN</td>\n",
       "      <td>3</td>\n",
       "      <td>3</td>\n",
       "      <td>8</td>\n",
       "      <td>NaN</td>\n",
       "    </tr>\n",
       "    <tr>\n",
       "      <th>top</th>\n",
       "      <td>Graduation</td>\n",
       "      <td>Married</td>\n",
       "      <td>NaN</td>\n",
       "      <td>0</td>\n",
       "      <td>0</td>\n",
       "      <td>Spain</td>\n",
       "      <td>NaN</td>\n",
       "    </tr>\n",
       "    <tr>\n",
       "      <th>freq</th>\n",
       "      <td>1100</td>\n",
       "      <td>845</td>\n",
       "      <td>NaN</td>\n",
       "      <td>1264</td>\n",
       "      <td>1131</td>\n",
       "      <td>1054</td>\n",
       "      <td>NaN</td>\n",
       "    </tr>\n",
       "    <tr>\n",
       "      <th>mean</th>\n",
       "      <td>NaN</td>\n",
       "      <td>NaN</td>\n",
       "      <td>51983.835541</td>\n",
       "      <td>NaN</td>\n",
       "      <td>NaN</td>\n",
       "      <td>NaN</td>\n",
       "      <td>53.126085</td>\n",
       "    </tr>\n",
       "    <tr>\n",
       "      <th>std</th>\n",
       "      <td>NaN</td>\n",
       "      <td>NaN</td>\n",
       "      <td>21403.940687</td>\n",
       "      <td>NaN</td>\n",
       "      <td>NaN</td>\n",
       "      <td>NaN</td>\n",
       "      <td>11.709564</td>\n",
       "    </tr>\n",
       "    <tr>\n",
       "      <th>min</th>\n",
       "      <td>NaN</td>\n",
       "      <td>NaN</td>\n",
       "      <td>1730.000000</td>\n",
       "      <td>NaN</td>\n",
       "      <td>NaN</td>\n",
       "      <td>NaN</td>\n",
       "      <td>26.000000</td>\n",
       "    </tr>\n",
       "    <tr>\n",
       "      <th>25%</th>\n",
       "      <td>NaN</td>\n",
       "      <td>NaN</td>\n",
       "      <td>35641.000000</td>\n",
       "      <td>NaN</td>\n",
       "      <td>NaN</td>\n",
       "      <td>NaN</td>\n",
       "      <td>45.000000</td>\n",
       "    </tr>\n",
       "    <tr>\n",
       "      <th>50%</th>\n",
       "      <td>NaN</td>\n",
       "      <td>NaN</td>\n",
       "      <td>51411.000000</td>\n",
       "      <td>NaN</td>\n",
       "      <td>NaN</td>\n",
       "      <td>NaN</td>\n",
       "      <td>52.000000</td>\n",
       "    </tr>\n",
       "    <tr>\n",
       "      <th>75%</th>\n",
       "      <td>NaN</td>\n",
       "      <td>NaN</td>\n",
       "      <td>68148.000000</td>\n",
       "      <td>NaN</td>\n",
       "      <td>NaN</td>\n",
       "      <td>NaN</td>\n",
       "      <td>63.000000</td>\n",
       "    </tr>\n",
       "    <tr>\n",
       "      <th>max</th>\n",
       "      <td>NaN</td>\n",
       "      <td>NaN</td>\n",
       "      <td>162397.000000</td>\n",
       "      <td>NaN</td>\n",
       "      <td>NaN</td>\n",
       "      <td>NaN</td>\n",
       "      <td>82.000000</td>\n",
       "    </tr>\n",
       "  </tbody>\n",
       "</table>\n",
       "</div>"
      ],
      "text/plain": [
       "         Education Marital_Status         Income Kidhome Teenhome Country  \\\n",
       "count         2189           2189    2189.000000    2189     2189    2189   \n",
       "unique           5              8            NaN       3        3       8   \n",
       "top     Graduation        Married            NaN       0        0   Spain   \n",
       "freq          1100            845            NaN    1264     1131    1054   \n",
       "mean           NaN            NaN   51983.835541     NaN      NaN     NaN   \n",
       "std            NaN            NaN   21403.940687     NaN      NaN     NaN   \n",
       "min            NaN            NaN    1730.000000     NaN      NaN     NaN   \n",
       "25%            NaN            NaN   35641.000000     NaN      NaN     NaN   \n",
       "50%            NaN            NaN   51411.000000     NaN      NaN     NaN   \n",
       "75%            NaN            NaN   68148.000000     NaN      NaN     NaN   \n",
       "max            NaN            NaN  162397.000000     NaN      NaN     NaN   \n",
       "\n",
       "        Age_in_years  \n",
       "count    2189.000000  \n",
       "unique           NaN  \n",
       "top              NaN  \n",
       "freq             NaN  \n",
       "mean       53.126085  \n",
       "std        11.709564  \n",
       "min        26.000000  \n",
       "25%        45.000000  \n",
       "50%        52.000000  \n",
       "75%        63.000000  \n",
       "max        82.000000  "
      ]
     },
     "execution_count": 8,
     "metadata": {},
     "output_type": "execute_result"
    }
   ],
   "source": [
    "Demographic_df = df[['Education', 'Marital_Status', 'Income', 'Kidhome', 'Teenhome','Country', 'Age_in_years']]\n",
    "Demographic_df['Kidhome'] = Demographic_df['Kidhome'].copy().astype(str)\n",
    "Demographic_df['Teenhome'] = Demographic_df['Teenhome'].copy().astype(str)\n",
    "Demographic_df.describe(include = 'all')"
   ]
  },
  {
   "cell_type": "code",
   "execution_count": 3,
   "id": "a2223ab8",
   "metadata": {},
   "outputs": [],
   "source": [
    "def mean_confidence_interval(data, confidence=0.90):\n",
    "    a = 1.0 * np.array(data)\n",
    "    n = len(a)\n",
    "    m, se = np.mean(a), sts.sem(a)\n",
    "    h = se * sts.t.ppf((1 + confidence) / 2., n-1)\n",
    "    return  (m-h, m+h)"
   ]
  },
  {
   "cell_type": "code",
   "execution_count": 15,
   "id": "15f1e16a",
   "metadata": {},
   "outputs": [
    {
     "name": "stdout",
     "output_type": "stream",
     "text": [
      "(51231.031344009425, 52736.63973867673)\n"
     ]
    }
   ],
   "source": [
    "print(mean_confidence_interval(Demographic_df['Income']))"
   ]
  },
  {
   "cell_type": "code",
   "execution_count": 16,
   "id": "61135b97",
   "metadata": {},
   "outputs": [
    {
     "name": "stdout",
     "output_type": "stream",
     "text": [
      "(52.71424449558494, 53.537925445027206)\n"
     ]
    }
   ],
   "source": [
    "print(mean_confidence_interval(Demographic_df['Age_in_years']))"
   ]
  },
  {
   "cell_type": "code",
   "execution_count": 4,
   "id": "c4b4c7ad",
   "metadata": {},
   "outputs": [
    {
     "name": "stdout",
     "output_type": "stream",
     "text": [
      "(292.51064661963113, 316.1864753538727)\n"
     ]
    }
   ],
   "source": [
    "print(mean_confidence_interval(df['MntWines']))"
   ]
  },
  {
   "cell_type": "code",
   "execution_count": 5,
   "id": "bb592188",
   "metadata": {},
   "outputs": [
    {
     "name": "stdout",
     "output_type": "stream",
     "text": [
      "(24.79245901041374, 27.57574564924821)\n"
     ]
    }
   ],
   "source": [
    "print(mean_confidence_interval(df['MntFruits']))"
   ]
  },
  {
   "cell_type": "code",
   "execution_count": 6,
   "id": "ce214522",
   "metadata": {},
   "outputs": [
    {
     "name": "stdout",
     "output_type": "stream",
     "text": [
      "(159.37906305403132, 175.31897257867766)\n"
     ]
    }
   ],
   "source": [
    "print(mean_confidence_interval(df['MntMeatProducts']))"
   ]
  },
  {
   "cell_type": "code",
   "execution_count": 7,
   "id": "5fbf68ec",
   "metadata": {},
   "outputs": [
    {
     "name": "stdout",
     "output_type": "stream",
     "text": [
      "(35.5260907280868, 39.37020895213247)\n"
     ]
    }
   ],
   "source": [
    "print(mean_confidence_interval(df['MntFishProducts']))"
   ]
  },
  {
   "cell_type": "code",
   "execution_count": 8,
   "id": "6a8e7a93",
   "metadata": {},
   "outputs": [
    {
     "name": "stdout",
     "output_type": "stream",
     "text": [
      "(25.604372355041505, 28.507094067982706)\n"
     ]
    }
   ],
   "source": [
    "print(mean_confidence_interval(df['MntSweetProducts']))"
   ]
  },
  {
   "cell_type": "code",
   "execution_count": 9,
   "id": "92467a32",
   "metadata": {},
   "outputs": [
    {
     "name": "stdout",
     "output_type": "stream",
     "text": [
      "(42.30330712018925, 45.97992723339686)\n"
     ]
    }
   ],
   "source": [
    "print(mean_confidence_interval(df['MntGoldProds']))"
   ]
  },
  {
   "cell_type": "code",
   "execution_count": 2,
   "id": "c502ac0b",
   "metadata": {},
   "outputs": [
    {
     "data": {
      "text/plain": [
       "<AxesSubplot:>"
      ]
     },
     "execution_count": 2,
     "metadata": {},
     "output_type": "execute_result"
    },
    {
     "data": {
      "image/png": "[encoded data removed]",
      "text/plain": [
       "<Figure size 432x288 with 1 Axes>"
      ]
     },
     "metadata": {},
     "output_type": "display_data"
    }
   ],
   "source": [
    "Products_df = df[['MntWines', 'MntFruits', 'MntMeatProducts','MntFishProducts', 'MntSweetProducts', 'MntGoldProds']]\n",
    "\n",
    "pt.style.use('fivethirtyeight')\n",
    "\n",
    "k = Products_df.sum()/len(Products_df)\n",
    "k.plot.bar(grid = False)"
   ]
  },
  {
   "cell_type": "code",
   "execution_count": 19,
   "id": "ea68b821",
   "metadata": {},
   "outputs": [
    {
     "name": "stdout",
     "output_type": "stream",
     "text": [
      "<class 'pandas.core.frame.DataFrame'>\n",
      "Int64Index: 2189 entries, 0 to 2192\n",
      "Data columns (total 6 columns):\n",
      " #   Column            Non-Null Count  Dtype\n",
      "---  ------            --------------  -----\n",
      " 0   MntWines          2189 non-null   int64\n",
      " 1   MntFruits         2189 non-null   int64\n",
      " 2   MntMeatProducts   2189 non-null   int64\n",
      " 3   MntFishProducts   2189 non-null   int64\n",
      " 4   MntSweetProducts  2189 non-null   int64\n",
      " 5   MntGoldProds      2189 non-null   int64\n",
      "dtypes: int64(6)\n",
      "memory usage: 119.7 KB\n"
     ]
    }
   ],
   "source": [
    "Products_df.info()"
   ]
  },
  {
   "cell_type": "code",
   "execution_count": 24,
   "id": "9913728a",
   "metadata": {},
   "outputs": [
    {
     "data": {
      "text/plain": [
       "<AxesSubplot:>"
      ]
     },
     "execution_count": 24,
     "metadata": {},
     "output_type": "execute_result"
    },
    {
     "data": {
      "image/png": "[encoded data removed]",
      "text/plain": [
       "<Figure size 432x288 with 1 Axes>"
      ]
     },
     "metadata": {},
     "output_type": "display_data"
    }
   ],
   "source": [
    "Channels_df = df[['NumDealsPurchases', 'NumWebPurchases', 'NumCatalogPurchases','NumStorePurchases']]\n",
    "k = Channels_df.sum()/len(Channels_df)\n",
    "k.plot.bar(grid = False)"
   ]
  }
 ],
 "metadata": {
  "kernelspec": {
   "display_name": "Python 3 (ipykernel)",
   "language": "python",
   "name": "python3"
  },
  "language_info": {
   "codemirror_mode": {
    "name": "ipython",
    "version": 3
   },
   "file_extension": ".py",
   "mimetype": "text/x-python",
   "name": "python",
   "nbconvert_exporter": "python",
   "pygments_lexer": "ipython3",
   "version": "3.9.12"
  }
 },
 "nbformat": 4,
 "nbformat_minor": 5
}
